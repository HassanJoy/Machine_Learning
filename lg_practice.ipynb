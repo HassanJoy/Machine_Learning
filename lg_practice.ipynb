{
  "nbformat": 4,
  "nbformat_minor": 0,
  "metadata": {
    "colab": {
      "private_outputs": true,
      "provenance": []
    },
    "kernelspec": {
      "name": "python3",
      "display_name": "Python 3"
    },
    "language_info": {
      "name": "python"
    }
  },
  "cells": [
    {
      "cell_type": "markdown",
      "source": [
        "# **Linear Regression for Single\n",
        "\n"
      ],
      "metadata": {
        "id": "EFwuNbooH_V-"
      }
    },
    {
      "cell_type": "markdown",
      "source": [
        "Loaded All requires libraries"
      ],
      "metadata": {
        "id": "4vjrShqaIUaj"
      }
    },
    {
      "cell_type": "code",
      "source": [
        "import pandas as pd\n",
        "import numpy as np\n",
        "from sklearn import linear_model\n",
        "import matplotlib.pyplot as plt"
      ],
      "metadata": {
        "id": "yt8q9rNRISOC"
      },
      "execution_count": null,
      "outputs": []
    },
    {
      "cell_type": "code",
      "source": [
        "df=pd.read_csv('/content/canada_per_capita_income.csv')\n",
        "df"
      ],
      "metadata": {
        "id": "ri5nMV4_B4VV"
      },
      "execution_count": null,
      "outputs": []
    },
    {
      "cell_type": "code",
      "source": [
        "#%matplotlib inline\n",
        "plt.title(\"Prediction canadian per capital income\")\n",
        "plt.xlabel(\"Year\")\n",
        "plt.ylabel(\"PCI in Canada[$]\")\n",
        "plt.scatter(df.year,df.pCI,color='green',marker='o')"
      ],
      "metadata": {
        "id": "HiVa11DJCVyU"
      },
      "execution_count": null,
      "outputs": []
    },
    {
      "cell_type": "code",
      "source": [
        "new_df = df.drop('pCI',axis='columns')\n",
        "new_df"
      ],
      "metadata": {
        "id": "v2v-8_xfG64i"
      },
      "execution_count": null,
      "outputs": []
    },
    {
      "cell_type": "code",
      "source": [
        "Income=df.pCI\n",
        "Income"
      ],
      "metadata": {
        "id": "abdSV5HUHCP7"
      },
      "execution_count": null,
      "outputs": []
    },
    {
      "cell_type": "code",
      "source": [
        "# Create linear regression object\n",
        "reg=linear_model.LinearRegression()\n",
        "reg.fit(new_df,Income)"
      ],
      "metadata": {
        "id": "-7RbtDvEFdJM"
      },
      "execution_count": null,
      "outputs": []
    },
    {
      "cell_type": "markdown",
      "source": [
        " Predict Per capital income with Year = 2020"
      ],
      "metadata": {
        "id": "iwjcVu1cJ5k5"
      }
    },
    {
      "cell_type": "code",
      "source": [
        "reg.predict([[2020]])"
      ],
      "metadata": {
        "id": "a4rw5VzhHgul"
      },
      "execution_count": null,
      "outputs": []
    },
    {
      "cell_type": "code",
      "source": [
        "reg.coef_\n"
      ],
      "metadata": {
        "id": "cICWj89RI0LS"
      },
      "execution_count": null,
      "outputs": []
    },
    {
      "cell_type": "code",
      "source": [
        "reg.intercept_"
      ],
      "metadata": {
        "id": "0MKNI2GxJH8r"
      },
      "execution_count": null,
      "outputs": []
    },
    {
      "cell_type": "markdown",
      "source": [
        "Check validation:\n",
        "Y = m * X + b (m is coefficient and b is intercept)"
      ],
      "metadata": {
        "id": "SgUKrPvuJlz8"
      }
    },
    {
      "cell_type": "code",
      "source": [
        "2020*828.46507522+(-1632210.7578554575)"
      ],
      "metadata": {
        "id": "jBIKB_jaJKy3"
      },
      "execution_count": null,
      "outputs": []
    },
    {
      "cell_type": "markdown",
      "source": [
        "**Generate CSV file with list of PCI prediction according to different Year in Canada**"
      ],
      "metadata": {
        "id": "-20dIeZHWTzg"
      }
    },
    {
      "cell_type": "markdown",
      "source": [
        "Different Year list Csv File loaded"
      ],
      "metadata": {
        "id": "iSSx4ZTYWj0r"
      }
    },
    {
      "cell_type": "code",
      "source": [
        "Year_Df=pd.read_csv(\"/content/CAnadian_Year.csv\")\n",
        "Year_Df"
      ],
      "metadata": {
        "id": "2MelyZdsPR0T"
      },
      "execution_count": null,
      "outputs": []
    },
    {
      "cell_type": "code",
      "source": [
        "Incomes=reg.predict(Year_Df)\n",
        "Incomes"
      ],
      "metadata": {
        "id": "u6p8Jxm2PYTm"
      },
      "execution_count": null,
      "outputs": []
    },
    {
      "cell_type": "markdown",
      "source": [],
      "metadata": {
        "id": "XLNfrgowUnCr"
      }
    },
    {
      "cell_type": "code",
      "source": [
        "Year_Df['PCI']=Incomes\n",
        "Year_Df"
      ],
      "metadata": {
        "id": "KZcKu9OaRSrI"
      },
      "execution_count": null,
      "outputs": []
    },
    {
      "cell_type": "code",
      "source": [
        "Year_Df.to_csv(\"PCI_Prediction.csv\")\n"
      ],
      "metadata": {
        "id": "wfiem7n2RlDZ"
      },
      "execution_count": null,
      "outputs": []
    }
  ]
}