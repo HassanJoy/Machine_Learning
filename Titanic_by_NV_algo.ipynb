{
  "nbformat": 4,
  "nbformat_minor": 0,
  "metadata": {
    "colab": {
      "private_outputs": true,
      "provenance": [],
      "authorship_tag": "ABX9TyOPuD6jIm+Dn6IcqwFjc98W",
      "include_colab_link": true
    },
    "kernelspec": {
      "name": "python3",
      "display_name": "Python 3"
    },
    "language_info": {
      "name": "python"
    }
  },
  "cells": [
    {
      "cell_type": "markdown",
      "metadata": {
        "id": "view-in-github",
        "colab_type": "text"
      },
      "source": [
        "<a href=\"https://colab.research.google.com/github/HassanJoy/Machine_Learning/blob/main/Titanic_by_NV_algo.ipynb\" target=\"_parent\"><img src=\"https://colab.research.google.com/assets/colab-badge.svg\" alt=\"Open In Colab\"/></a>"
      ]
    },
    {
      "cell_type": "markdown",
      "source": [
        "**Titanic pessanger survival prediction using naive Bayas Algorithms..**"
      ],
      "metadata": {
        "id": "MF9q8hArwF-P"
      }
    },
    {
      "cell_type": "code",
      "execution_count": null,
      "metadata": {
        "id": "hbdR5h7VlFu8"
      },
      "outputs": [],
      "source": [
        "#import All libraries\n",
        "import pandas as pd\n",
        "import matplotlib.pyplot as plt\n",
        "import seaborn as sns"
      ]
    },
    {
      "cell_type": "code",
      "source": [
        "#load data set\n",
        "df=pd.read_csv(\"/content/titanic.csv\")\n",
        "df.head()"
      ],
      "metadata": {
        "id": "QREMC0ipl0kl"
      },
      "execution_count": null,
      "outputs": []
    },
    {
      "cell_type": "markdown",
      "source": [
        "**Drop few feature which is not impactful for predict survival(My perception)**"
      ],
      "metadata": {
        "id": "A-eyHm7nwhKg"
      }
    },
    {
      "cell_type": "code",
      "source": [
        "df.drop(['PassengerId','Name','Ticket','Cabin','Embarked'],axis='columns',inplace=True)\n",
        "df.head()"
      ],
      "metadata": {
        "id": "IXgqg31qmTem"
      },
      "execution_count": null,
      "outputs": []
    },
    {
      "cell_type": "code",
      "source": [
        "#check any null value for individul features\n",
        "df.isnull().sum()"
      ],
      "metadata": {
        "id": "HQvratDunff9"
      },
      "execution_count": null,
      "outputs": []
    },
    {
      "cell_type": "markdown",
      "source": [
        "**Handle null value for Age feature using meadian Statistics Function**"
      ],
      "metadata": {
        "id": "TwvItARrxAAb"
      }
    },
    {
      "cell_type": "code",
      "source": [
        "df.Age = df.Age.fillna(df.Age.median())\n",
        "df.head()"
      ],
      "metadata": {
        "id": "DT8zMkqJnlCC"
      },
      "execution_count": null,
      "outputs": []
    },
    {
      "cell_type": "code",
      "source": [
        "df.isnull().sum()"
      ],
      "metadata": {
        "id": "DOX0EthNoUPL"
      },
      "execution_count": null,
      "outputs": []
    },
    {
      "cell_type": "markdown",
      "source": [
        "**Handle Dummy variable(Sex) using one hot encoding**"
      ],
      "metadata": {
        "id": "mjw0cjC9xcAr"
      }
    },
    {
      "cell_type": "code",
      "source": [
        "dummy=pd.get_dummies(df.Sex)\n",
        "dummy"
      ],
      "metadata": {
        "id": "vx2Fd4JTohmm"
      },
      "execution_count": null,
      "outputs": []
    },
    {
      "cell_type": "code",
      "source": [
        "#Added dummy variables value in data frame\n",
        "df=pd.concat([df,dummy],axis='columns')\n",
        "df"
      ],
      "metadata": {
        "id": "y5-16vUCpD4c"
      },
      "execution_count": null,
      "outputs": []
    },
    {
      "cell_type": "code",
      "source": [
        "#drop sex column\n",
        "df.drop(['Sex'],axis='columns',inplace=True)\n",
        "df.head()\n"
      ],
      "metadata": {
        "id": "HiWbEB3LprIA"
      },
      "execution_count": null,
      "outputs": []
    },
    {
      "cell_type": "code",
      "source": [
        "#Heatmap drew for check which variable is more impactfull for target\n",
        "sns.heatmap(df.corr(), cmap = 'coolwarm', annot = True )\n",
        "plt.show()\n",
        ""
      ],
      "metadata": {
        "id": "4HHpIbByrDiC"
      },
      "execution_count": null,
      "outputs": []
    },
    {
      "cell_type": "code",
      "source": [
        "X=df.drop(['female','Parch','Survived'],axis='columns')\n",
        "Y=df.Survived"
      ],
      "metadata": {
        "id": "20XusMHwr_fU"
      },
      "execution_count": null,
      "outputs": []
    },
    {
      "cell_type": "code",
      "source": [
        "X.head()"
      ],
      "metadata": {
        "id": "VCnWXOrttUHd"
      },
      "execution_count": null,
      "outputs": []
    },
    {
      "cell_type": "code",
      "source": [
        "from sklearn.model_selection import train_test_split\n",
        "X_train,X_test,Y_train,Y_test= train_test_split(X,Y,test_size=0.25)"
      ],
      "metadata": {
        "id": "I9927HsstbEI"
      },
      "execution_count": null,
      "outputs": []
    },
    {
      "cell_type": "code",
      "source": [
        "from sklearn.naive_bayes import GaussianNB\n",
        "model=GaussianNB()"
      ],
      "metadata": {
        "id": "W_KiUf0uvDvr"
      },
      "execution_count": null,
      "outputs": []
    },
    {
      "cell_type": "code",
      "source": [
        "model.fit(X_train,Y_train)"
      ],
      "metadata": {
        "id": "hvretPrtvRqV"
      },
      "execution_count": null,
      "outputs": []
    },
    {
      "cell_type": "code",
      "source": [
        "model.score(X_test,Y_test)"
      ],
      "metadata": {
        "id": "oxAVlaRMvcb5"
      },
      "execution_count": null,
      "outputs": []
    },
    {
      "cell_type": "markdown",
      "source": [],
      "metadata": {
        "id": "wtlHvXSyySk1"
      }
    },
    {
      "cell_type": "code",
      "source": [
        "X_test[0:10]"
      ],
      "metadata": {
        "id": "GG81505_ybQi"
      },
      "execution_count": null,
      "outputs": []
    },
    {
      "cell_type": "code",
      "source": [
        "Y_test[0:10]"
      ],
      "metadata": {
        "id": "Uhl74hNayjLj"
      },
      "execution_count": null,
      "outputs": []
    },
    {
      "cell_type": "code",
      "source": [
        "model.predict(X_test[0:10])"
      ],
      "metadata": {
        "id": "3Ce37LyPytCR"
      },
      "execution_count": null,
      "outputs": []
    },
    {
      "cell_type": "code",
      "source": [
        "model.predict_proba(X_test[:10])"
      ],
      "metadata": {
        "id": "1QC2Ue6vzDAg"
      },
      "execution_count": null,
      "outputs": []
    },
    {
      "cell_type": "markdown",
      "source": [
        "**Calculated the perfomance score using cross validation**"
      ],
      "metadata": {
        "id": "GIQEL6UczdOe"
      }
    },
    {
      "cell_type": "code",
      "source": [
        "from sklearn.model_selection import cross_val_score\n",
        "cross_val_score(GaussianNB(),X_train, Y_train, cv=3)"
      ],
      "metadata": {
        "id": "PD4dtAHBzSo7"
      },
      "execution_count": null,
      "outputs": []
    }
  ]
}