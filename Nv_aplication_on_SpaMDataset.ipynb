{
  "nbformat": 4,
  "nbformat_minor": 0,
  "metadata": {
    "colab": {
      "private_outputs": true,
      "provenance": [],
      "authorship_tag": "ABX9TyNq3nUH6WuGScZfHSeNwM07",
      "include_colab_link": true
    },
    "kernelspec": {
      "name": "python3",
      "display_name": "Python 3"
    },
    "language_info": {
      "name": "python"
    }
  },
  "cells": [
    {
      "cell_type": "markdown",
      "metadata": {
        "id": "view-in-github",
        "colab_type": "text"
      },
      "source": [
        "<a href=\"https://colab.research.google.com/github/HassanJoy/Machine_Learning/blob/main/Nv_aplication_on_SpaMDataset.ipynb\" target=\"_parent\"><img src=\"https://colab.research.google.com/assets/colab-badge.svg\" alt=\"Open In Colab\"/></a>"
      ]
    },
    {
      "cell_type": "markdown",
      "source": [
        "**Message Spam prediction using Multinomial naive Bayas**"
      ],
      "metadata": {
        "id": "0Cmesw58KwS2"
      }
    },
    {
      "cell_type": "code",
      "execution_count": null,
      "metadata": {
        "id": "PZUasfFE5VT-"
      },
      "outputs": [],
      "source": [
        "#load needed libraries\n",
        "import pandas as pd\n",
        "import matplotlib.pyplot as plt\n",
        "import seaborn as sns"
      ]
    },
    {
      "cell_type": "code",
      "source": [
        "#load Data set\n",
        "df=pd.read_csv('/content/spam.csv')\n",
        "df.head()"
      ],
      "metadata": {
        "id": "iElbC16q6ECT"
      },
      "execution_count": null,
      "outputs": []
    },
    {
      "cell_type": "code",
      "source": [
        "#checked group wise data\n",
        "df.groupby('Category').describe()"
      ],
      "metadata": {
        "id": "vupoHyVn6Woh"
      },
      "execution_count": null,
      "outputs": []
    },
    {
      "cell_type": "markdown",
      "source": [
        "**Integrated new column into dataset based on catagory columns value**\n",
        "\n",
        "*   If value is spam then new column value will be 1\n",
        "*   otherwise it will 0\n",
        "\n"
      ],
      "metadata": {
        "id": "1wZEajBMLtwO"
      }
    },
    {
      "cell_type": "code",
      "source": [
        "df['Spam']=df['Category'].apply(lambda x: 1 if x=='spam'else 0)\n",
        "df.head()"
      ],
      "metadata": {
        "id": "-wdPO8P-64vB"
      },
      "execution_count": null,
      "outputs": []
    },
    {
      "cell_type": "markdown",
      "source": [
        "**Data Set splitting up**"
      ],
      "metadata": {
        "id": "8qNgN2zuMJAb"
      }
    },
    {
      "cell_type": "code",
      "source": [
        "X=df.Message\n",
        "Y=df.Spam"
      ],
      "metadata": {
        "id": "Mc1b8z6G7nvh"
      },
      "execution_count": null,
      "outputs": []
    },
    {
      "cell_type": "markdown",
      "source": [
        "**Performed test Data to numerical representation**\n",
        "\n",
        "\n",
        "*   imported CounterVectorizer library\n",
        "*   Call fit_transfomer funtion for transform the data into  \n",
        "    a matrix of word counts.\n",
        "*   Finally converted it to a 2D Array"
      ],
      "metadata": {
        "id": "aCYuywvrMXFe"
      }
    },
    {
      "cell_type": "code",
      "source": [
        "from sklearn.feature_extraction.text import CountVectorizer\n",
        "vectorizer = CountVectorizer()\n",
        "x= vectorizer.fit_transform(X)\n",
        "x.toarray()[:2]"
      ],
      "metadata": {
        "id": "U4rbYsE18KJN"
      },
      "execution_count": null,
      "outputs": []
    },
    {
      "cell_type": "code",
      "source": [
        "from sklearn.model_selection import train_test_split\n",
        "X_train,X_test,Y_train,Y_test=train_test_split(x,Y,test_size=0.25)"
      ],
      "metadata": {
        "id": "8m5pvD0GGyZ7"
      },
      "execution_count": null,
      "outputs": []
    },
    {
      "cell_type": "code",
      "source": [
        "X_test"
      ],
      "metadata": {
        "id": "CtBMYVPeIwVQ"
      },
      "execution_count": null,
      "outputs": []
    },
    {
      "cell_type": "code",
      "source": [
        "Y_test"
      ],
      "metadata": {
        "id": "eyEVdqnII8BK"
      },
      "execution_count": null,
      "outputs": []
    },
    {
      "cell_type": "code",
      "source": [
        "X_train"
      ],
      "metadata": {
        "id": "u0zwtuMJJCeS"
      },
      "execution_count": null,
      "outputs": []
    },
    {
      "cell_type": "code",
      "source": [
        "from sklearn.naive_bayes import MultinomialNB\n",
        "model = MultinomialNB()\n",
        "model.fit(X_train,Y_train)"
      ],
      "metadata": {
        "id": "3zeEEM2hHQKy"
      },
      "execution_count": null,
      "outputs": []
    },
    {
      "cell_type": "code",
      "source": [
        "emails = [\n",
        "    'Good Morning Mehedi!, Whats Up man?',\n",
        "    'Hey man,I am doing well.What about you?'\n",
        "]\n",
        "emails_count = vectorizer.transform(emails)\n",
        "model.predict(emails_count)"
      ],
      "metadata": {
        "id": "FEYbaxw0H5IQ"
      },
      "execution_count": null,
      "outputs": []
    },
    {
      "cell_type": "code",
      "source": [
        "emails_count"
      ],
      "metadata": {
        "id": "JOqjSQdxJn-p"
      },
      "execution_count": null,
      "outputs": []
    },
    {
      "cell_type": "code",
      "source": [
        "model.score(X_test, Y_test)"
      ],
      "metadata": {
        "id": "KDCkIqDSIIHF"
      },
      "execution_count": null,
      "outputs": []
    }
  ]
}