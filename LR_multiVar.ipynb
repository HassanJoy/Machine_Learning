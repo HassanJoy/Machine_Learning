{
  "nbformat": 4,
  "nbformat_minor": 0,
  "metadata": {
    "colab": {
      "private_outputs": true,
      "provenance": []
    },
    "kernelspec": {
      "name": "python3",
      "display_name": "Python 3"
    },
    "language_info": {
      "name": "python"
    }
  },
  "cells": [
    {
      "cell_type": "markdown",
      "source": [],
      "metadata": {
        "id": "9Or3E44lLmOP"
      }
    },
    {
      "cell_type": "code",
      "source": [
        "!pip install word2number"
      ],
      "metadata": {
        "id": "GtKWwoymLm_z"
      },
      "execution_count": null,
      "outputs": []
    },
    {
      "cell_type": "code",
      "source": [
        "import pandas as pd\n",
        "import matplotlib.pyplot as plt\n",
        "import seaborn as sns\n",
        "from sklearn import linear_model\n",
        "from word2number import w2n"
      ],
      "metadata": {
        "id": "yviuUtkSVRVi"
      },
      "execution_count": null,
      "outputs": []
    },
    {
      "cell_type": "code",
      "source": [
        "df=pd.read_csv('/content/hiring.csv')\n",
        "df"
      ],
      "metadata": {
        "id": "REcb6F6wMPI6"
      },
      "execution_count": null,
      "outputs": []
    },
    {
      "cell_type": "code",
      "source": [
        "df['test_score(out of 10)']=df['test_score(out of 10)'].fillna(df['test_score(out of 10)'].mode())\n",
        "df"
      ],
      "metadata": {
        "id": "OMzKlt65Sfb9"
      },
      "execution_count": null,
      "outputs": []
    },
    {
      "cell_type": "code",
      "source": [
        "df['experience']=df['experience'].fillna('Zero')\n",
        "df"
      ],
      "metadata": {
        "id": "Rg8qNLjQUUYP"
      },
      "execution_count": null,
      "outputs": []
    },
    {
      "cell_type": "code",
      "source": [
        "df.experience = df.experience.apply(w2n.word_to_num)\n",
        "df"
      ],
      "metadata": {
        "id": "0T-__kIhWGuV"
      },
      "execution_count": null,
      "outputs": []
    },
    {
      "cell_type": "code",
      "source": [
        "plt.title('Experience vs salary')\n",
        "plt.xlabel('Experience')\n",
        "plt.ylabel('Salary[$]')\n",
        "plt.scatter(df['experience'],df['salary($)'],color='red',marker='*')\n"
      ],
      "metadata": {
        "id": "DPcimoiMdm9t"
      },
      "execution_count": null,
      "outputs": []
    },
    {
      "cell_type": "code",
      "source": [
        "plt.plot(df['test_score(out of 10)'],df['salary($)'],color='green',marker='o')"
      ],
      "metadata": {
        "id": "MSPQy78Fd-eE"
      },
      "execution_count": null,
      "outputs": []
    },
    {
      "cell_type": "code",
      "source": [
        "plt.scatter(df['interview_score(out of 10)'],df['salary($)'],color='blue')\n"
      ],
      "metadata": {
        "id": "o17IXqxoeTjS"
      },
      "execution_count": null,
      "outputs": []
    },
    {
      "cell_type": "code",
      "source": [
        "\n",
        "X=df.drop(['salary($)'],axis ='columns')\n",
        "X"
      ],
      "metadata": {
        "id": "0XuuH9QnXf88"
      },
      "execution_count": null,
      "outputs": []
    },
    {
      "cell_type": "code",
      "source": [
        "Y=df['salary($)']\n",
        "Y"
      ],
      "metadata": {
        "id": "8RBJLIPpZQkC"
      },
      "execution_count": null,
      "outputs": []
    },
    {
      "cell_type": "code",
      "source": [
        "model=linear_model.LinearRegression()\n",
        "model.fit(X,Y)"
      ],
      "metadata": {
        "id": "oNLv4uhOZpA4"
      },
      "execution_count": null,
      "outputs": []
    },
    {
      "cell_type": "code",
      "source": [
        "model.predict([[5,7,8]])"
      ],
      "metadata": {
        "id": "Zdh_POElZ9O4"
      },
      "execution_count": null,
      "outputs": []
    },
    {
      "cell_type": "code",
      "source": [
        "model.coef_"
      ],
      "metadata": {
        "id": "fzAmPoIebgiM"
      },
      "execution_count": null,
      "outputs": []
    },
    {
      "cell_type": "code",
      "source": [
        "model.intercept_"
      ],
      "metadata": {
        "id": "hanPrTpBblLn"
      },
      "execution_count": null,
      "outputs": []
    }
  ]
}