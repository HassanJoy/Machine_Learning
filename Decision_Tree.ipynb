{
  "nbformat": 4,
  "nbformat_minor": 0,
  "metadata": {
    "colab": {
      "private_outputs": true,
      "provenance": [],
      "authorship_tag": "ABX9TyOOxrLyIh6sj/OhY7EfJL4V",
      "include_colab_link": true
    },
    "kernelspec": {
      "name": "python3",
      "display_name": "Python 3"
    },
    "language_info": {
      "name": "python"
    }
  },
  "cells": [
    {
      "cell_type": "markdown",
      "metadata": {
        "id": "view-in-github",
        "colab_type": "text"
      },
      "source": [
        "<a href=\"https://colab.research.google.com/github/HassanJoy/Machine_Learning/blob/main/Decision_Tree.ipynb\" target=\"_parent\"><img src=\"https://colab.research.google.com/assets/colab-badge.svg\" alt=\"Open In Colab\"/></a>"
      ]
    },
    {
      "cell_type": "markdown",
      "source": [
        "**Titanic Passanger Survive preiction using Decision Tree Algorithms**"
      ],
      "metadata": {
        "id": "qKMB8WuJ1ySh"
      }
    },
    {
      "cell_type": "code",
      "execution_count": null,
      "metadata": {
        "id": "gh5tTcN4eYZT"
      },
      "outputs": [],
      "source": [
        "#Import All necessaries Libraries\n",
        "import numpy as np\n",
        "import pandas as pd\n",
        "import matplotlib.pyplot as plt\n",
        "import seaborn as sns"
      ]
    },
    {
      "cell_type": "code",
      "source": [
        "#load Titanic Data set\n",
        "df=pd.read_csv(\"/content/titanic.csv\")\n",
        "df.head()\n"
      ],
      "metadata": {
        "id": "pVCjxt1ze8JB"
      },
      "execution_count": null,
      "outputs": []
    },
    {
      "cell_type": "markdown",
      "source": [
        "**EDA For Titanic data Set**"
      ],
      "metadata": {
        "id": "aYwqXTcY2aDC"
      }
    },
    {
      "cell_type": "code",
      "source": [
        "#Check data Set Shape\n",
        "df.shape"
      ],
      "metadata": {
        "id": "iQulGsosfTkB"
      },
      "execution_count": null,
      "outputs": []
    },
    {
      "cell_type": "code",
      "source": [
        "#Check Null value based on Columns\n",
        "null_counts = df.isnull().sum()"
      ],
      "metadata": {
        "id": "ipz720BhhJ38"
      },
      "execution_count": null,
      "outputs": []
    },
    {
      "cell_type": "code",
      "source": [
        "null_counts"
      ],
      "metadata": {
        "id": "MpP_5-I_jr0g"
      },
      "execution_count": null,
      "outputs": []
    },
    {
      "cell_type": "code",
      "source": [
        "#Replace Null value using Median function for Age column\n",
        "df['Age'] = df['Age'].fillna(df['Age'].median ())"
      ],
      "metadata": {
        "id": "rIqR8jdQrHig"
      },
      "execution_count": null,
      "outputs": []
    },
    {
      "cell_type": "code",
      "source": [
        "df"
      ],
      "metadata": {
        "id": "K5xW73cFsOFK"
      },
      "execution_count": null,
      "outputs": []
    },
    {
      "cell_type": "markdown",
      "source": [
        "Drop few Columns Which don't have any impact in survive rate prediction"
      ],
      "metadata": {
        "id": "tBj8wZrH28E6"
      }
    },
    {
      "cell_type": "code",
      "source": [
        "New_df= df.drop(['PassengerId','Name','Parch','Embarked','Ticket','Cabin'], axis=1)"
      ],
      "metadata": {
        "id": "YZDd8zDVsddd"
      },
      "execution_count": null,
      "outputs": []
    },
    {
      "cell_type": "code",
      "source": [
        "New_df.isnull().sum()"
      ],
      "metadata": {
        "id": "i3nQWCPMsoz6"
      },
      "execution_count": null,
      "outputs": []
    },
    {
      "cell_type": "code",
      "source": [
        "New_df"
      ],
      "metadata": {
        "id": "Vy1Hnd4itC6E"
      },
      "execution_count": null,
      "outputs": []
    },
    {
      "cell_type": "markdown",
      "source": [
        "Categorical value replaced by numeric data"
      ],
      "metadata": {
        "id": "oHmMMN0R3McB"
      }
    },
    {
      "cell_type": "code",
      "source": [
        "New_df['Sex'].replace(['male','female'],[0, 1], inplace=True)"
      ],
      "metadata": {
        "id": "_NH0MKIGuDbh"
      },
      "execution_count": null,
      "outputs": []
    },
    {
      "cell_type": "code",
      "source": [
        "New_df"
      ],
      "metadata": {
        "id": "sS0cmo-puPW5"
      },
      "execution_count": null,
      "outputs": []
    },
    {
      "cell_type": "markdown",
      "source": [
        "Finally check impact factor or correlation between target value and remaining Features matrix"
      ],
      "metadata": {
        "id": "RHcK3KVh3ZRz"
      }
    },
    {
      "cell_type": "code",
      "source": [
        "sns.heatmap(New_df.corr(), cmap = 'coolwarm', annot = True )\n",
        "plt.show()"
      ],
      "metadata": {
        "id": "X5fjDoJFueAj"
      },
      "execution_count": null,
      "outputs": []
    },
    {
      "cell_type": "code",
      "source": [
        "#Divided Feture matrix and target variable\n",
        "X= New_df.drop(['Survived'], axis=1)\n",
        "Y=New_df.Survived"
      ],
      "metadata": {
        "id": "IE8_vJV2vnSz"
      },
      "execution_count": null,
      "outputs": []
    },
    {
      "cell_type": "code",
      "source": [
        "X"
      ],
      "metadata": {
        "id": "aNlEHZ24v6E1"
      },
      "execution_count": null,
      "outputs": []
    },
    {
      "cell_type": "code",
      "source": [
        "Y"
      ],
      "metadata": {
        "id": "HCwz-LFLv_LF"
      },
      "execution_count": null,
      "outputs": []
    },
    {
      "cell_type": "code",
      "source": [
        "#import test_train_splite library\n",
        "from sklearn.model_selection import train_test_split\n"
      ],
      "metadata": {
        "id": "bQT_lvxbwM_x"
      },
      "execution_count": null,
      "outputs": []
    },
    {
      "cell_type": "code",
      "source": [
        "X_train,X_test,Y_train,Y_test= train_test_split(X,Y,test_size=0.2)"
      ],
      "metadata": {
        "id": "VHI0sN0pwY03"
      },
      "execution_count": null,
      "outputs": []
    },
    {
      "cell_type": "code",
      "source": [
        "X_train.shape"
      ],
      "metadata": {
        "id": "50V9pgZAw0ho"
      },
      "execution_count": null,
      "outputs": []
    },
    {
      "cell_type": "code",
      "source": [
        "X_test.shape"
      ],
      "metadata": {
        "id": "1JqzaM7aw9KK"
      },
      "execution_count": null,
      "outputs": []
    },
    {
      "cell_type": "code",
      "source": [
        "from sklearn import tree\n",
        "model=tree.DecisionTreeClassifier()"
      ],
      "metadata": {
        "id": "qR_PRW31xD-e"
      },
      "execution_count": null,
      "outputs": []
    },
    {
      "cell_type": "code",
      "source": [
        "model.fit(X_train,Y_train)"
      ],
      "metadata": {
        "id": "M6k9DYFwxObX"
      },
      "execution_count": null,
      "outputs": []
    },
    {
      "cell_type": "code",
      "source": [
        "model.score(X_test,Y_test)"
      ],
      "metadata": {
        "id": "0wPNhbYfxXW2"
      },
      "execution_count": null,
      "outputs": []
    }
  ]
}