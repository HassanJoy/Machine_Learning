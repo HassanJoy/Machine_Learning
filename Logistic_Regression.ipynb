{
  "nbformat": 4,
  "nbformat_minor": 0,
  "metadata": {
    "colab": {
      "private_outputs": true,
      "provenance": [],
      "authorship_tag": "ABX9TyM1sJ8CGwppG4nqFAD7Gr4i",
      "include_colab_link": true
    },
    "kernelspec": {
      "name": "python3",
      "display_name": "Python 3"
    },
    "language_info": {
      "name": "python"
    }
  },
  "cells": [
    {
      "cell_type": "markdown",
      "metadata": {
        "id": "view-in-github",
        "colab_type": "text"
      },
      "source": [
        "<a href=\"https://colab.research.google.com/github/HassanJoy/Machine_Learning/blob/main/Logistic_Regression.ipynb\" target=\"_parent\"><img src=\"https://colab.research.google.com/assets/colab-badge.svg\" alt=\"Open In Colab\"/></a>"
      ]
    },
    {
      "cell_type": "markdown",
      "source": [
        "Dataset is downloaded from Kaggle. Link: https://www.kaggle.com/giripujar/hr-analytics"
      ],
      "metadata": {
        "id": "Gx0tRYQdCB6j"
      }
    },
    {
      "cell_type": "code",
      "execution_count": null,
      "metadata": {
        "id": "N7E2c7VacFaQ"
      },
      "outputs": [],
      "source": [
        "import pandas as pd\n",
        "import numpy as np\n",
        "import matplotlib.pyplot as plt\n",
        "import seaborn as sns"
      ]
    },
    {
      "cell_type": "code",
      "source": [
        "#read dataset using pandas data frame\n",
        "df=pd.read_csv(\"/content/HR_comma_sep.csv\")\n",
        "df"
      ],
      "metadata": {
        "id": "rmyqlESIcnSE"
      },
      "execution_count": null,
      "outputs": []
    },
    {
      "cell_type": "markdown",
      "source": [
        "** EDA For Features selection**\n"
      ],
      "metadata": {
        "id": "mMS1qGNhR6B1"
      }
    },
    {
      "cell_type": "code",
      "source": [
        "df.left.unique()"
      ],
      "metadata": {
        "id": "jZGNsmi9dbOm"
      },
      "execution_count": null,
      "outputs": []
    },
    {
      "cell_type": "code",
      "source": [
        "left = df[df.left==1]\n",
        "left.shape"
      ],
      "metadata": {
        "id": "u_Cxq9_WVqF0"
      },
      "execution_count": null,
      "outputs": []
    },
    {
      "cell_type": "code",
      "source": [
        "retain = df[df.left==0]\n",
        "retain.shape"
      ],
      "metadata": {
        "id": "W7nV_HNXVtgu"
      },
      "execution_count": null,
      "outputs": []
    },
    {
      "cell_type": "code",
      "source": [
        "\n",
        "sns.pairplot(df, x_vars =['satisfaction_level','promotion_last_5years','average_montly_hours','time_spend_company' ], y_vars= 'left',kind = 'scatter' )"
      ],
      "metadata": {
        "id": "YUGo6m1TSAoO"
      },
      "execution_count": null,
      "outputs": []
    },
    {
      "cell_type": "code",
      "source": [
        "sns.heatmap( df.corr(), cmap = 'coolwarm', annot = True )\n",
        "plt.show()"
      ],
      "metadata": {
        "id": "yJhXVjCPWhDA"
      },
      "execution_count": null,
      "outputs": []
    },
    {
      "cell_type": "markdown",
      "source": [
        "**Is salary impact on employee retention!**"
      ],
      "metadata": {
        "id": "JiG2yOw7XuYg"
      }
    },
    {
      "cell_type": "code",
      "source": [
        "pd.crosstab(df.salary,df.left).plot(kind='bar')"
      ],
      "metadata": {
        "id": "DmrcaRwRXmOe"
      },
      "execution_count": null,
      "outputs": []
    },
    {
      "cell_type": "markdown",
      "source": [
        "From this plot i can easily say that::\n",
        "\n",
        "\n",
        "1.   *salary has a big impact to retain in company*\n",
        "\n"
      ],
      "metadata": {
        "id": "2TeeL0lWZG7O"
      }
    },
    {
      "cell_type": "markdown",
      "source": [
        "**Is Department impact on employee retention!**\n",
        "\n",
        "let's check it!!!"
      ],
      "metadata": {
        "id": "UAuOU3uDa7ZH"
      }
    },
    {
      "cell_type": "code",
      "source": [
        "crosstb =pd.crosstab(df.Department,df.left)\n",
        "barplot=crosstb.plot.bar(rot=90)"
      ],
      "metadata": {
        "id": "iOr9AYZxZjR9"
      },
      "execution_count": null,
      "outputs": []
    },
    {
      "cell_type": "markdown",
      "source": [
        "From this bar plot its clear that departmenat hasn't much impact in  employee retaintion.\n",
        "\n",
        "So i don't count this one as my fetures variable\n",
        "\n",
        "---\n",
        "\n",
        "\n",
        "\n"
      ],
      "metadata": {
        "id": "XSjx-A5SbB-d"
      }
    },
    {
      "cell_type": "code",
      "source": [
        "Newdf = df[['satisfaction_level','Work_accident','average_montly_hours','promotion_last_5years','salary']]\n",
        "Newdf.head()"
      ],
      "metadata": {
        "id": "xe0Dwk-abbxp"
      },
      "execution_count": null,
      "outputs": []
    },
    {
      "cell_type": "markdown",
      "source": [
        "**Handle salary dummy variable**\n",
        "\n",
        "`Salary has all catagorical format data. It needs to be converted to numeric format and we will use dummy variable for that usig one hot function.`\n",
        "\n"
      ],
      "metadata": {
        "id": "HSL6K7Hg2B2w"
      }
    },
    {
      "cell_type": "code",
      "source": [
        "newdf_dummy=pd.get_dummies(Newdf.salary, prefix='salary')\n",
        "newdf_dummy"
      ],
      "metadata": {
        "id": "9vMQYIak2U9X"
      },
      "execution_count": null,
      "outputs": []
    },
    {
      "cell_type": "code",
      "source": [
        "# Concatanate dummy variable data frame(newDf_Dummy) with newDf\n",
        "Update_df = pd.concat([Newdf,newdf_dummy], axis='columns')\n",
        "Update_df.head(5)"
      ],
      "metadata": {
        "id": "GffzXuAj3po6"
      },
      "execution_count": null,
      "outputs": []
    },
    {
      "cell_type": "code",
      "source": [
        "#drop catagorical salaru column value\n",
        "Update_df.drop('salary',axis='columns',inplace=True)\n",
        "Update_df.head()"
      ],
      "metadata": {
        "id": "r-0RwvZL-XlN"
      },
      "execution_count": null,
      "outputs": []
    },
    {
      "cell_type": "code",
      "source": [
        "#selection feture matrices\n",
        "X=Update_df\n",
        "X"
      ],
      "metadata": {
        "id": "PuCUidBs-r9j"
      },
      "execution_count": null,
      "outputs": []
    },
    {
      "cell_type": "code",
      "source": [
        "#Target variable\n",
        "Y=df.left\n",
        "Y.head()"
      ],
      "metadata": {
        "id": "spYazspn_L31"
      },
      "execution_count": null,
      "outputs": []
    },
    {
      "cell_type": "code",
      "source": [
        "#import trin_test-splite function from sklearn.model_selection\n",
        "from sklearn.model_selection import train_test_split\n",
        "X_train,X_test,Y_train,Y_test=train_test_split(X,Y,test_size=0.2)"
      ],
      "metadata": {
        "id": "fOFcjsPF_Vw-"
      },
      "execution_count": null,
      "outputs": []
    },
    {
      "cell_type": "code",
      "source": [
        "from sklearn.linear_model import LogisticRegression\n",
        "model = LogisticRegression()"
      ],
      "metadata": {
        "id": "lXETjV6A_wq9"
      },
      "execution_count": null,
      "outputs": []
    },
    {
      "cell_type": "markdown",
      "source": [
        "**Model For fit**"
      ],
      "metadata": {
        "id": "pe2BxhcTBRAd"
      }
    },
    {
      "cell_type": "code",
      "source": [
        "model.fit(X,Y)"
      ],
      "metadata": {
        "id": "MxF6KrG4AYi4"
      },
      "execution_count": null,
      "outputs": []
    },
    {
      "cell_type": "code",
      "source": [
        "model.predict(X_test)"
      ],
      "metadata": {
        "id": "Vxde2l5uAc8C"
      },
      "execution_count": null,
      "outputs": []
    },
    {
      "cell_type": "markdown",
      "source": [
        "**Perfomance test of the model**"
      ],
      "metadata": {
        "id": "yVS4jF-pBC39"
      }
    },
    {
      "cell_type": "code",
      "source": [
        "model.score(X_test,Y_test)"
      ],
      "metadata": {
        "id": "5w11l4QzAoi1"
      },
      "execution_count": null,
      "outputs": []
    }
  ]
}